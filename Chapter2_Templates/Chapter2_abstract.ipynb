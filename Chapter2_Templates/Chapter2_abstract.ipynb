{
 "cells": [
  {
   "cell_type": "markdown",
   "id": "43a77e38-d865-42a9-92dc-f7f2b4660c17",
   "metadata": {},
   "source": [
    "# 2장 : Templates"
   ]
  },
  {
   "cell_type": "markdown",
   "id": "28feec3f-6b82-4b3b-8985-8b676c979d49",
   "metadata": {},
   "source": [
    "## Templates 란?"
   ]
  },
  {
   "cell_type": "markdown",
   "id": "d24ae66f-82ce-4ddb-a07b-2cfabcfd90a2",
   "metadata": {},
   "source": [
    "- mock object : 존재하지 않는 것에 대한 걱정 없이, 어플리케이션의 한 부분에만 집중할 수 있게 해줌.  \n",
    "ex) user = {'username': 'Miguel'}  \n",
    "- 템플릿 : 보여주는 것과 비즈니스 로직을 분리함. templates 폴더에 넣음.\n",
    "- {{ ... }} : 런타임에 view function에서 넘어온 변수 출력\n",
    "- render_template() : 템플릿을 렌더링하기 위한 함수. 이 함수가 Jinja2 템플릿 엔진을 호출하고, Jinja2 는 {{ }} 를 실제 값으로 대체함\n"
   ]
  },
  {
   "cell_type": "markdown",
   "id": "af5b1fc6-1244-4b17-8c2d-564c9fa43ddf",
   "metadata": {},
   "source": [
    "## 조건문"
   ]
  },
  {
   "cell_type": "markdown",
   "id": "c9311330-dfa0-47db-b53d-b5dd106e038c",
   "metadata": {},
   "source": [
    "- {% ... %} : if, else, endif"
   ]
  },
  {
   "cell_type": "markdown",
   "id": "66fad202-520a-4220-aa6d-3427f8b0ad22",
   "metadata": {},
   "source": [
    "## Loops"
   ]
  },
  {
   "cell_type": "markdown",
   "id": "71601d7b-f238-438f-a512-ebb9541c6bea",
   "metadata": {},
   "source": [
    "- {% for .. in .. %}  \n",
    "{% endfor %}"
   ]
  },
  {
   "cell_type": "markdown",
   "id": "fd57f6ba-b321-49f7-940b-c0ddf8baa9e6",
   "metadata": {},
   "source": [
    "## Template 상속"
   ]
  },
  {
   "cell_type": "markdown",
   "id": "d691a94d-8082-4be3-ae13-d0c4efe9cccc",
   "metadata": {},
   "source": [
    "- 메뉴 같은 공통적 내용을 복사하지 않기 위해, Jinja2 가 템플릿 상속이라는 특징을 가지고 있음.\n",
    "- {% block 이름 %}{% endblock %} : 상속한 하위 템플릿에서 insert될 수 있는 부분. block 이름으로 구분함. 상위 템플릿에서 이와 같이 명시하고, 하위 템플릿에서 구현함.\n",
    "- {% extends \"base.html\" %} : base.html을 하위 템플릿에서 상속받음. extends 가 두 템플릿 간 상속 링크를 만듦."
   ]
  }
 ],
 "metadata": {
  "kernelspec": {
   "display_name": "Python 3 (ipykernel)",
   "language": "python",
   "name": "python3"
  },
  "language_info": {
   "codemirror_mode": {
    "name": "ipython",
    "version": 3
   },
   "file_extension": ".py",
   "mimetype": "text/x-python",
   "name": "python",
   "nbconvert_exporter": "python",
   "pygments_lexer": "ipython3",
   "version": "3.8.12"
  }
 },
 "nbformat": 4,
 "nbformat_minor": 5
}
