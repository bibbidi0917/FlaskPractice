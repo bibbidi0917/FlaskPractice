{
 "cells": [
  {
   "cell_type": "markdown",
   "id": "aacc583e-bef6-49fb-a092-f1a3b35b2bd9",
   "metadata": {},
   "source": [
    "# 3장 : Web Forms"
   ]
  },
  {
   "cell_type": "markdown",
   "id": "44dd72d2-fe02-41a1-96c6-de6a896fb7f9",
   "metadata": {},
   "source": [
    "## Flask-WTF"
   ]
  },
  {
   "cell_type": "markdown",
   "id": "e3c39d81-1022-4b0f-a819-a03bed4d14b9",
   "metadata": {},
   "source": [
    "- web form을 다루기 위해서 Flask-WTF extension을 이용함. \n",
    "- WTForms 패키지를 Flask와 잘 통합한 wrapper임.\n",
    "- extension : Flask 생태계에서는 매우 중요한 부분임. Flask의 몇몇 문제점에 대한 해결방법을 제시해줌\n",
    "- pip install flask-wtf\n",
    "- 설정 : 설정변수들을 app.config 파일에 정의하는 것이 가장 기본적인 방법이나, 설정과 어플리케이션을 분리하고 확장성을 높이기 위해 별도 파일을 생성함.  \n",
    "Top level 폴더에 config.py를 만들어서 config 클래스 안에 변수로 명시함.\n",
    "- SECRET_KEY 설정 변수 : 서명 또는 토큰 생성에 사용함. Flask-WTF extension에서는 CSRF(Cross-Site Request Forgery)을 막기 위해서 사용함.  \n",
    "config.py에서 환경변수 값을 사용하거나 하드코딩된 값을 사용하는데, secret.json 파일로 분리하여 하드코딩 값을 별도 관리하였음.\n",
    "\n"
   ]
  },
  {
   "cell_type": "markdown",
   "id": "30f2ac4a-77e1-4eeb-ab2a-da5c6e385a15",
   "metadata": {},
   "source": [
    "## User Login Form"
   ]
  },
  {
   "cell_type": "markdown",
   "id": "f57b9a2a-9bf4-447c-8ef3-9a1aeb2dd64e",
   "metadata": {},
   "source": [
    "- app/forms.py 참고"
   ]
  },
  {
   "cell_type": "markdown",
   "id": "ba450974-3e1c-4295-9359-f747de860427",
   "metadata": {},
   "source": [
    "## Form Templates"
   ]
  },
  {
   "cell_type": "markdown",
   "id": "29562b64-23b7-4a7f-86f4-44b5fbea7e54",
   "metadata": {},
   "source": [
    "- app/templates/login.html 참고\n",
    "- 폼 태그는 default가 GET request여서, POST로 보내려면 method=\"post\" 를 명시해야 함\n",
    "- novalidate 속성 : 서버 측에서 각 요소에 대한 validation을 수행하지 않도록 함.\n",
    "- form.hidden_tag() : CSRF 공격으로부터 폼을 보호할 수 있는 토큰이 포함된 히든 필드를 만듦. Flask 설정에 SECRET_KEY 변수 세팅하고, 이 히든 필드만 추가하면 됨.\n",
    "- {{ form.<field_name>() }} : html 요소 렌더링. input 태그의 속성으로 들어갈 인자도 넘겨줄 수 있음.(CSS class나 id 등)\n"
   ]
  },
  {
   "cell_type": "markdown",
   "id": "d4eaa22a-2a41-4b0c-9b76-e8aacf64523d",
   "metadata": {},
   "source": [
    "## Form Views"
   ]
  },
  {
   "cell_type": "markdown",
   "id": "a1365632-14a6-4180-a354-44e4f6e5a456",
   "metadata": {},
   "source": [
    "- app/routes.py 에 로그인에 해당하는 view function을 만듦\n",
    "- app/templates/base.html에 로그인 메뉴 추가함"
   ]
  },
  {
   "cell_type": "markdown",
   "id": "8d39f87a-31ce-4ead-ae6b-41fb4df533a4",
   "metadata": {},
   "source": [
    "## Form Data 받기"
   ]
  },
  {
   "cell_type": "markdown",
   "id": "125e8171-c938-45f1-ad7b-290c042d5048",
   "metadata": {},
   "source": [
    "1) app/routes.py 의 login view function에 submit한 것 받을 수 있도록 수정함.\n",
    "- @app.route('/login', methods=['GET', 'POST']) : 디폴트는 GET request만 받을 수 있는 것이므로, POST를 추가해줌. \n",
    "- form.validate_on_submit() : 사용자가 submit 버튼을 눌러서 브라우저가 POST request를 보내면, 이 함수가 모든 데이터를 모아서 각 필드에 붙어있는 validator들을 돌림. 그리고 모든 validation이 정상이면 True를 반환함. 하나라도 validation 통과 못하면 False이고, 사용자에게 render back됨. \n",
    "- flash() : 사용자에게 메시지 표시. 이 함수가 불리면 Flask는 메시지를 보관한다. 이 메시지를 표현하기 위해서 base.html에 요소 추가해줌.\n",
    "- redirect()\n",
    "\n",
    "2) base.html에서 flashed message 표현\n",
    "- get_flashed_messages() : Flask에서 이전에 flash()로 등록된 모든 메시지들을 반환해줌. 이 함수가 불려서 메시지들이 한 번 꺼내지면, 그 메시지들은 리스트에서 사라짐."
   ]
  },
  {
   "cell_type": "markdown",
   "id": "f799d161-4176-41cf-b7ab-05992aeba064",
   "metadata": {},
   "source": [
    "## Field Validation 개선하기"
   ]
  },
  {
   "cell_type": "markdown",
   "id": "6f3592ad-d2b5-42c5-b175-30ae58c9066e",
   "metadata": {},
   "source": [
    "- login.html 에 validator로부터 생성된 에러 메시지를 렌더링할 수 있는 span을 추가함.\n",
    "- form.<field_name>.errors : validation 결과로부터 나온 에러 메시지들. 여러 개의 validator들이 붙을 수 있기 때문에 리스트임.\n"
   ]
  },
  {
   "cell_type": "markdown",
   "id": "3419a3f5-9dec-4f0c-864a-e77577f71ce7",
   "metadata": {},
   "source": [
    "## Links 생성하기"
   ]
  },
  {
   "cell_type": "markdown",
   "id": "7c67e9d1-6b83-4e32-bca3-58ba51d8cdc6",
   "metadata": {},
   "source": [
    "- '/index' 와 같이 직접적으로 링크를 쓰는 것의 문제점 : 링크 바꾸면 전체 앱을 다 고쳐야 함.\n",
    "- url_for('view function name') : URL과 view function 간의 내부적인 매핑을 이용해서, URL을 생성함.\n",
    "ex) url_for('login') : login view function에 매핑되어있는 '/login' url을 리턴해줌\n",
    "- 왜 url 대신 함수명을 쓰는가?  \n",
    "1) 함수 이름이 url보다 변경 빈도가 낮음\n",
    "2) url이 dynamic component로 구성된 경우, 여러 요소들을 이어붙여 url을 만드는 것이 에러를 유발할 수 있음\n",
    "- base.html과 routes.py의 url직접 명시 부분을 모두 url_for()로 변경함\n"
   ]
  }
 ],
 "metadata": {
  "kernelspec": {
   "display_name": "Python 3 (ipykernel)",
   "language": "python",
   "name": "python3"
  },
  "language_info": {
   "codemirror_mode": {
    "name": "ipython",
    "version": 3
   },
   "file_extension": ".py",
   "mimetype": "text/x-python",
   "name": "python",
   "nbconvert_exporter": "python",
   "pygments_lexer": "ipython3",
   "version": "3.8.12"
  }
 },
 "nbformat": 4,
 "nbformat_minor": 5
}
