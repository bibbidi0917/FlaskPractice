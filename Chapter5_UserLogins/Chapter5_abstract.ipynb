{
 "cells": [
  {
   "cell_type": "markdown",
   "id": "b2a08f16-9799-4e7d-8c86-7e78b5d523cc",
   "metadata": {},
   "source": [
    "# 5장 : User Logins"
   ]
  },
  {
   "cell_type": "markdown",
   "id": "a3c3f9dd-e258-4667-aba8-0979a532cd1f",
   "metadata": {},
   "source": [
    " ## Password Hashing"
   ]
  },
  {
   "cell_type": "markdown",
   "id": "c67b6857-f299-42b9-94f7-325a1326e136",
   "metadata": {},
   "source": [
    "- User model의 password_hash 필드 : 로그인할 때 사용자가 입력한 비밀번호를 검증할 때 사용됨.\n",
    "- 'Werkzeug' 패키지 : dependency가 있어서 Flask 설치할 때 같이 설치되었음.  \n",
    "1) generate_password_hash(password) : 해쉬값 생성. 이 해쉬된 비밀번호값으로 원래 패스워드를 알 수는 없음. 같은 값으로 여러 번 생성해도, 그 해쉬 결과는 다름.  \n",
    "2) check_password_hash(hash, '사용자가 입력한 비밀번호') : true여야 검증완료\n",
    "- app/models.py 의 User 모델에 password 관련함수 삽입(set_password, check_password_hash)"
   ]
  },
  {
   "cell_type": "markdown",
   "id": "c3f4848c-0989-4605-a72c-82cd5c4ad23e",
   "metadata": {},
   "source": [
    "## Flask-Login에 대한 소개"
   ]
  },
  {
   "cell_type": "markdown",
   "id": "f61a05f3-4cd1-4ced-affb-aed8a0e40e1d",
   "metadata": {},
   "source": [
    "```bash\n",
    "pip install flask-login\n",
    "```"
   ]
  },
  {
   "cell_type": "markdown",
   "id": "6de31ae4-d55d-4815-834b-c9901584cdb3",
   "metadata": {},
   "source": [
    "- 'flask-login' 패키지 : 사용자의 로그인 상태를 관리하는 extension. 앱이 사용자의 로그인 상태를 기억하도록 하고, \"remember me\"라는 기능으로 브라우저 창을 닫은 뒤에도 사용자가 로그인을 유지할 수 있도록 함.\n",
    "- app/\\_\\_init\\_\\_.py 에 LoginManager 관련 코드 추가 : 다른 extension 처럼 Flask-Login도 app/\\_\\_init\\_\\_.py에서 앱 인스턴스가 만들어진 다음에, 생성되고 초기화되어야 함."
   ]
  },
  {
   "cell_type": "markdown",
   "id": "462d837c-dd02-4b5d-a855-6dc0a72cbaa9",
   "metadata": {},
   "source": [
    "## Flask-Login을 위해 User Model 준비하기"
   ]
  },
  {
   "cell_type": "markdown",
   "id": "3ed0fc4f-c572-4529-8c14-1fbc84fd2ba0",
   "metadata": {},
   "source": [
    "4개의 아이템만 모델에 추가되면, 어떠한 db 시스템에서도 user model이 동작함\n",
    "1) is_authenticated : valid credential인지\n",
    "2) is_active : 사용자 계정이 active 상태인지\n",
    "3) is_anonymous : 일반적인 유저들은 false\n",
    "4) get_id() : 사용자에 대한 unique identifier를 String으로 반환하는 함수\n",
    "\n",
    "- Flask-Login에는 대부분의 user model 클래스에 적합한 일반적인 구현체인 'UserMixin' mixin 클래스를 제공함.\n",
    "- app/models.py 에 UserMixin 추가"
   ]
  },
  {
   "cell_type": "markdown",
   "id": "92065a31-07a0-4958-9b5e-5816d9a567e9",
   "metadata": {},
   "source": [
    "## User Loader 함수"
   ]
  },
  {
   "cell_type": "markdown",
   "id": "cc41dc0c-b950-4e37-b0cc-b3ac603c8b45",
   "metadata": {},
   "source": [
    "- Flask-Login 은 Flask의 'user session' 내부의 unique identifier들을 저장하고 있음. 로그인된 사용자가 다른 페이지로 가면, Flask-Login은 세션에서 사용자의 ID를 가져와서, 그 사용자를 메모리에 load함. Flask-Login은 db에 대해서 아무것도 모르기 때문에, load할 때 앱의 도움이 필요함. 그래서 extension은 id만 주면 user를 불러오는 user loader 함수를 앱이 정의해뒀을 것으로 기대함.\n",
    "- @login.user_loader 데코레이터 : user loader함수를 Flask-Login에 등록. \n",
    "- app/models.py에 user loader 함수 추가. (쿼리에 id 넣어줄 때는 int로 변환해야)\n",
    "※ user session : 앱에 연결된 각 사용자들에게 할당된 저장공간. "
   ]
  },
  {
   "cell_type": "markdown",
   "id": "cadfa6a0-300d-4872-8df2-df6c78b80a72",
   "metadata": {},
   "source": [
    "## 로그인"
   ]
  },
  {
   "cell_type": "markdown",
   "id": "77e7eb7b-9e60-489a-85e8-8dee9f9c63a4",
   "metadata": {},
   "source": [
    "- app/routes.py 에서 login 함수 변경\n",
    "- current_user : Flask-Login에서 온 변수로, 리퀘스트의 클라이언트 user object를 얻을 수 있는 변수.(Flask-Login이 user loader 함수로 얻은 user object거나, 아직 로그인하지 않은 익명의 user object일 수 있음. 로그인 된 사람이 로그인 url로 오면, index 화면으로 보내기 위해, current_user.is_authenticated 변수 사용)\n",
    "- 입력받은 username과 일치하는 User를 조회해서, 하나만 가져옴.\n",
    "```python\n",
    "user = User.query.filter_by(username=form.username.data).first()\n",
    "```\n",
    "- 비밀번호 체크. models.py의 User클래스에서 함수 선언을 def check_password(self, password): 이렇게 했고, 부를 때는 u.check_password('입력받은 password') 로 함.\n",
    "- Flask-Login의 **login_user('user object', remember='')** : 해당 user를 로그인 상태로 등록=다른 페이지에서는 current_user 변수로 그 유저를 가짐."
   ]
  },
  {
   "cell_type": "markdown",
   "id": "908dfa14-0dd0-47c4-81dc-37ad43bbdc7e",
   "metadata": {},
   "source": [
    "## 로그아웃"
   ]
  },
  {
   "cell_type": "markdown",
   "id": "94c99e7e-9c5c-4076-af29-c067e3ea49b4",
   "metadata": {},
   "source": [
    "- Flask-Login의 **logout_user()**\n",
    "- app/routes.py 에 @app.route('/logout') 데코레이터 추가\n",
    "- app/templates/base.html 에 로그인, 로그아웃 메뉴 추가 및 수정"
   ]
  },
  {
   "cell_type": "markdown",
   "id": "4c0372fe-e6b2-4dc8-934f-794ad191c6fe",
   "metadata": {},
   "source": [
    "## 사용자가 로그인하도록 하기"
   ]
  },
  {
   "cell_type": "markdown",
   "id": "5006c0f3-bd79-4be4-b06b-fc21c7c729ea",
   "metadata": {},
   "source": [
    "- Flask-Login은 사용자가 앱의 특정 페이지를 보기 전에 반드시 로그인하도록하는 기능이 매우 유용함. 만약 보호된 페이지를 로그인 하지 않은 사용자가 보려고 하면, Flask-Login은 자동으로 사용자를 로그인 폼으로 redirect하고, 로그인 성공해야 사용자가 원했던 페이지로 다시 redirect해줌. 이 기능을 사용하려면, Flask-Login이 로그인을 다루는 view 함수를 알고 있어야 함.\n",
    "- app/\\_\\_init\\_\\_.py 에 login.login_view = 'login' 추가"
   ]
  },
  {
   "cell_type": "markdown",
   "id": "4e9cd955-fbed-4122-a9a8-2b84be765c99",
   "metadata": {},
   "source": [
    "- @login_required 데코레이터 : view함수의 @app.route 밑에 이 데코레이터를 추가하면, 해당 함수가 보호됨.\n",
    "- app/routes.py 의 index함수에 상기 데코레이터 추가  "
   ]
  },
  {
   "cell_type": "markdown",
   "id": "8ade140a-55d4-45c0-9ef3-21b0bbe12199",
   "metadata": {},
   "source": [
    "- 사용자가 /index로 접근 > @login_required 데코레이터가 그 요청을 가로채고 /login 으로 redirect하여 응답함. > 하지만 redirect된 url은 /login?next=/index 같은 형태임. > 앱에서 이 next를 받아서, 로그인 후에 해당 url로 다시 redirect해주는 부분은 구현해야함\n",
    "- app/routes.py 로그인 함수에 리턴 부분 코드 수정\n",
    "- request.args.get('next') : request.args에서 쿼리스트링을 딕셔너리 형식으로 바꿔줌. \n",
    "- login URL에 next argument가\n",
    "1) 없는 경우 > index로\n",
    "2) 상대 경로로 들어온 경우 > 그 url로 보내줌.\n",
    "3) full URL로 들어온 경우(도메인 네임 포함) > index로. 왜냐하면 해커가 next 다음에 유해한 사이트 url을 삽입할 수 있기 때문에, 앱은 url이 상대경로일 때만 redirect해줘야함. \n",
    "- url_parse(next_page).netloc : url이 절대 경로인지 상대경로인지 판단하기 위해서 Werkzeug의 'url_parse()' 함수를 사용하고, netloc인지 여부를 판단함.(순수 location이 존재하면=netloc 이 ''이 아니면= 절대 경로임)"
   ]
  },
  {
   "cell_type": "markdown",
   "id": "c7c31f20-2288-4fe1-8c8b-20508ea94ee7",
   "metadata": {},
   "source": [
    "## 템플릿에서 로그인된 사용자 보여주기"
   ]
  },
  {
   "cell_type": "markdown",
   "id": "e912c675-4d50-4e2c-9f03-c407d9d64ce7",
   "metadata": {},
   "source": [
    "- Flask-Login 의 current_user 변수를 템플릿에서 사용 (그래서 view function에서 user 변수를 넘겨주지 않아도 됨)"
   ]
  },
  {
   "cell_type": "markdown",
   "id": "b4e7ec5d-491e-4d57-a6bd-f48937727308",
   "metadata": {},
   "source": [
    "## 사용자 등록"
   ]
  },
  {
   "cell_type": "markdown",
   "id": "7b0d985d-01c4-4ea6-80ee-c27e7c41345f",
   "metadata": {},
   "source": [
    "- app/forms.py RegistrationForm 클래스 추가\n",
    "- validators\n",
    "1) Email() : 이메일 검증\n",
    "```bash\n",
    "pip install email-validator\n",
    "```\n",
    "2) EqualTo('password') : 같은지 검증\n",
    "- validate_<field_name> : WTForms가 뒤의 필드 네임을 보고 커스텀 validator를 만들어서, 기존 validator에 덧붙여서 실행시켜줌. "
   ]
  },
  {
   "cell_type": "markdown",
   "id": "24ec9793-051b-450b-8610-9619986da652",
   "metadata": {},
   "source": [
    "- app/templates/register.html 화면 추가\n",
    "- app/templates/login.html 에 사용자 등록 버튼 추가\n",
    "- app/routes.py 에 '/register' url 매핑 추가"
   ]
  },
  {
   "cell_type": "code",
   "execution_count": null,
   "id": "90e1042b-ec78-429e-b31f-f684dbbe4289",
   "metadata": {},
   "outputs": [],
   "source": []
  }
 ],
 "metadata": {
  "kernelspec": {
   "display_name": "Python 3 (ipykernel)",
   "language": "python",
   "name": "python3"
  },
  "language_info": {
   "codemirror_mode": {
    "name": "ipython",
    "version": 3
   },
   "file_extension": ".py",
   "mimetype": "text/x-python",
   "name": "python",
   "nbconvert_exporter": "python",
   "pygments_lexer": "ipython3",
   "version": "3.8.12"
  }
 },
 "nbformat": 4,
 "nbformat_minor": 5
}
