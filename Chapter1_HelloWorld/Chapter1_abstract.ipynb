{
 "cells": [
  {
   "cell_type": "markdown",
   "id": "e8854292-9dbe-46a1-b542-221211afdfca",
   "metadata": {},
   "source": [
    "# 1장 : Hello, World!"
   ]
  },
  {
   "cell_type": "markdown",
   "id": "1583b415-1a48-4e35-842c-4a52fafd3b6f",
   "metadata": {},
   "source": [
    "- __init__.py  \n",
    "bottom import : Flask app의 circular imports의 해결방법.  \n",
    "ex) app이 만들어지고 나서 routes가 import되어야하기 때문에, import routes를 나중에 해줌. \n",
    "\n",
    "- routes.py  \n",
    "view function : 클라이언트가 호출하는 url에 대한 핸들러.  \n",
    "decorator : 특정 이벤트의 콜백으로 함수를 등록할 때 사용함.  \n",
    "ex) @app.route는 url과 뒤의 함수를 관련지어서, 해당 url이 불리면 함수의 리턴값을 브라우저에 응답값으로 전달해줌.\n",
    "\n",
    "- microblog.py (from app import app)  \n",
    "첫번째 app : app 패키지 폴더  \n",
    "두번째 app : __init__.py 에서 생성한 Flask 인스턴스\n",
    "\n",
    "- set FLASK_APP=microblog.py 으로 환경변수 설정\n",
    "- 영구적으로 환경변수를 세팅하기 위해서, 프로젝트 루트 경로에 .flaskenv 파일을 생성하여 FLASK_APP=microblog.py 환경변수를 설정함\n",
    "\n",
    "- 가상환경 활성화 : venv\\Scripts\\activate\n",
    "- flask run 으로 구동\n",
    "- http://localhost:5000/ 으로 접속\n"
   ]
  },
  {
   "cell_type": "code",
   "execution_count": null,
   "id": "9cc89b11-ff9a-4dc6-8750-7c91f91305f9",
   "metadata": {},
   "outputs": [],
   "source": []
  }
 ],
 "metadata": {
  "kernelspec": {
   "display_name": "Python 3 (ipykernel)",
   "language": "python",
   "name": "python3"
  },
  "language_info": {
   "codemirror_mode": {
    "name": "ipython",
    "version": 3
   },
   "file_extension": ".py",
   "mimetype": "text/x-python",
   "name": "python",
   "nbconvert_exporter": "python",
   "pygments_lexer": "ipython3",
   "version": "3.8.12"
  }
 },
 "nbformat": 4,
 "nbformat_minor": 5
}
